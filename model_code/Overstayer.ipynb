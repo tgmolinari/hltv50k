{
 "cells": [
  {
   "cell_type": "code",
   "execution_count": 1,
   "metadata": {
    "collapsed": false
   },
   "outputs": [],
   "source": [
    "-- Everyone's favorite Torch imports\n",
    "require 'nn';\n",
    "require 'optim';\n",
    "--require 'cutorch';\n",
    "Dataset = require 'dataset.Dataset';\n",
    "torch.setdefaulttensortype('torch.FloatTensor');"
   ]
  },
  {
   "cell_type": "code",
   "execution_count": 2,
   "metadata": {
    "collapsed": false,
    "scrolled": true
   },
   "outputs": [
    {
     "data": {
      "text/plain": [
       "BATCH #1\t\n"
      ]
     },
     "execution_count": 2,
     "metadata": {},
     "output_type": "execute_result"
    },
    {
     "data": {
      "text/plain": [
       "1\t\n"
      ]
     },
     "execution_count": 2,
     "metadata": {},
     "output_type": "execute_result"
    }
   ],
   "source": [
    "-- Data prep\n",
    "local csds = Dataset(\"/media/tom/shared/remote_index.csv\")\n",
    "\n",
    "function trainModel(model)\n",
    "    --local params, grad_params = model:getParameters()\n",
    "    local criterion = nn.BCECriterion()\n",
    "    local getBatch, numBatches = csds.sampledBatcher({\n",
    "          batchSize = 8,\n",
    "          inputDims = {3,200,200},\n",
    "          samplerKind = 'permutation',\n",
    "          verbose = true,\n",
    "          processor = function(res, processorOpt, input)\n",
    "                  --return function(res, processorOpt, input)\n",
    "                  -- This code is from the torch-dataset repo on git, curtosy the Twitter team\n",
    "                  -- However, I attempted to turn the function into a closure (I'm led to believe it'll run faster)\n",
    "                  -- Turn the res string into a ByteTensor (containing the PNG file's contents)\n",
    "                  local image = require 'image';\n",
    "                  local bytes = torch.ByteTensor(#res)\n",
    "                  bytes:storage():string(res)\n",
    "                  -- Decompress the PNG bytes into a Tensor\n",
    "                  local pixels = image.decompressPNG(bytes)\n",
    "                  -- Copy the pixels tensor into the mini-batch\n",
    "                  input:copy(pixels)\n",
    "                  return true\n",
    "                 --end\n",
    "          end,\n",
    "       })\n",
    "    \n",
    "    \n",
    "    local b = 1\n",
    "    while b <= 1 do\n",
    "        model:training()\n",
    "        collectgarbage()\n",
    "        print(\"BATCH #\" .. b)\n",
    "        \n",
    "        local batch = getBatch()\n",
    "        print(batch['target'])\n",
    "        --for s = 1, batch:size(1) do\n",
    "        --    local pred = model:forward(batch['input'][s])\n",
    "        --    model:zeroGradParameters()\n",
    "        --    local gradPreds = criterion:backward(pred,batch['target'][s]-1)\n",
    "        --    model:backward(batch['input'], gradPreds)\n",
    "        --end\n",
    "        b = b + 1\n",
    "    end\n",
    "end\n",
    "\n",
    "\n",
    "-- Model prep\n",
    "local cs_learn = nn.Sequential()\n",
    "cs_learn:add(nn.SpatialConvolution(3,4,100,100))\n",
    "cs_learn:add(nn.ReLU())\n",
    "cs_learn:add(nn.SpatialConvolution(4,16,50,50))\n",
    "cs_learn:add(nn.ReLU())\n",
    "cs_learn:add(nn.SpatialConvolution(16,64,10,10))\n",
    "cs_learn:add(nn.ReLU())\n",
    "cs_learn:add(nn.View(8*64*43*43))\n",
    "cs_learn:add(nn.Linear(8*64*43*43,1))\n",
    "cs_learn:add(nn.Sigmoid())\n",
    "--torch.save('cs_learn_model.t7', cs_learn)\n",
    "-- Training\n",
    "trainModel(cs_learn)\n",
    "torch.save('cs_learn_model.t7', cs_learn)"
   ]
  },
  {
   "cell_type": "code",
   "execution_count": 8,
   "metadata": {
    "collapsed": true
   },
   "outputs": [],
   "source": [
    "-- Results\n",
    "local csds = Dataset(\"/media/tom/shared/remote_index.csv\")\n",
    "local getBatch, numBatches = csds.sampledBatcher({\n",
    "      batchSize = 8,\n",
    "      inputDims = {3,200,200},\n",
    "      samplerKind = 'permutation',\n",
    "      get = getFile,\n",
    "      verbose = true,\n",
    "      processor = function(res, processorOpt, input)\n",
    "              --return function(res, processorOpt, input)\n",
    "              -- This code is from the torch-dataset repo on git, curtosy the Twitter team\n",
    "              -- However, I attempted to turn the function into a closure (I'm led to believe it'll run faster)\n",
    "              -- Turn the res string into a ByteTensor (containing the PNG file's contents)\n",
    "              local image = require 'image';\n",
    "              local bytes = torch.ByteTensor(#res)\n",
    "              bytes:storage():string(res)\n",
    "              -- Decompress the PNG bytes into a Tensor\n",
    "              local pixels = image.decompressPNG(bytes)\n",
    "              -- Copy the pixels tensor into the mini-batch\n",
    "              input:copy(pixels)\n",
    "              return true\n",
    "             --end\n",
    "      end,\n",
    "   })\n",
    "perm = getBatch()"
   ]
  },
  {
   "cell_type": "code",
   "execution_count": 22,
   "metadata": {
    "collapsed": false,
    "scrolled": true
   },
   "outputs": [],
   "source": [
    "for i = 1,8 do\n",
    "    local p = perm['input'][i]\n",
    "end"
   ]
  }
 ],
 "metadata": {
  "kernelspec": {
   "display_name": "iTorch",
   "language": "lua",
   "name": "itorch"
  },
  "language_info": {
   "name": "lua",
   "version": "5.2"
  }
 },
 "nbformat": 4,
 "nbformat_minor": 1
}
